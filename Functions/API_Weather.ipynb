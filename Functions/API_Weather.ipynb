{
 "cells": [
  {
   "cell_type": "markdown",
   "id": "588f0480",
   "metadata": {},
   "source": [
    "---\n",
    "# Import Libraries"
   ]
  },
  {
   "cell_type": "code",
   "execution_count": 1,
   "id": "8e702a63",
   "metadata": {},
   "outputs": [],
   "source": [
    "from weatherbit.api import Api\n",
    "\n",
    "import pandas as pd"
   ]
  },
  {
   "cell_type": "markdown",
   "id": "7c4808f6",
   "metadata": {},
   "source": [
    "---\n",
    "# Import Functions"
   ]
  },
  {
   "cell_type": "code",
   "execution_count": 2,
   "id": "94fc8489",
   "metadata": {},
   "outputs": [],
   "source": [
    "api_key = \"22f849e233da44399648441609edde9d\"\n",
    "api = Api(api_key)"
   ]
  },
  {
   "cell_type": "code",
   "execution_count": 3,
   "id": "59034687",
   "metadata": {},
   "outputs": [],
   "source": [
    "def Extract_Data_For_Specific_Location_Weather(name, lat, lon):\n",
    "    try:\n",
    "        dataframe_data = api.get_forecast(lat=lat, lon=lon, city=name, days=15, tp='daily').get(['datetime', 'temp', 'max_temp', 'min_temp'])\n",
    "        \n",
    "        dataframe = pd.DataFrame(data=dataframe_data)\n",
    "        dataframe.drop(['timestamp_utc','timestamp_local'], axis=1, inplace=True)\n",
    "        dataframe['Latitude'] = lat\n",
    "        dataframe['Longitude'] = lon\n",
    "    \n",
    "        return dataframe\n",
    "\n",
    "    except: print('No, options!')"
   ]
  },
  {
   "cell_type": "markdown",
   "id": "ae1aaaf2",
   "metadata": {},
   "source": [
    "---"
   ]
  },
  {
   "cell_type": "code",
   "execution_count": null,
   "id": "c0f2e31a",
   "metadata": {},
   "outputs": [],
   "source": []
  }
 ],
 "metadata": {
  "kernelspec": {
   "display_name": "Python 3 (ipykernel)",
   "language": "python",
   "name": "python3"
  },
  "language_info": {
   "codemirror_mode": {
    "name": "ipython",
    "version": 3
   },
   "file_extension": ".py",
   "mimetype": "text/x-python",
   "name": "python",
   "nbconvert_exporter": "python",
   "pygments_lexer": "ipython3",
   "version": "3.11.9"
  }
 },
 "nbformat": 4,
 "nbformat_minor": 5
}
