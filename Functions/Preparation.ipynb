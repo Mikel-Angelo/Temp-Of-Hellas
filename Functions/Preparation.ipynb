{
 "cells": [
  {
   "cell_type": "markdown",
   "id": "16b77b96",
   "metadata": {},
   "source": [
    "---\n",
    "# Import Libraries"
   ]
  },
  {
   "cell_type": "code",
   "execution_count": 1,
   "id": "b715d50f",
   "metadata": {},
   "outputs": [],
   "source": [
    "import pandas as pd"
   ]
  },
  {
   "cell_type": "markdown",
   "id": "e1c57af9",
   "metadata": {},
   "source": [
    "---\n",
    "# Import Functions"
   ]
  },
  {
   "cell_type": "code",
   "execution_count": 2,
   "id": "80d55f19",
   "metadata": {},
   "outputs": [],
   "source": [
    "def Prepare_Dataframe(name_of_dataframe, Coutry_Name):\n",
    "    try:\n",
    "        for _ in range(len(name_of_dataframe.columns)):\n",
    "            name_of_dataframe.rename(columns={name_of_dataframe.columns[_] : Coutry_Name+'_'+name_of_dataframe.columns[_]}, inplace=True)\n",
    "        return name_of_dataframe\n",
    "    \n",
    "    except:\n",
    "        print('No, options!')"
   ]
  },
  {
   "cell_type": "markdown",
   "id": "bc2c2fb3",
   "metadata": {},
   "source": [
    "---"
   ]
  },
  {
   "cell_type": "code",
   "execution_count": null,
   "id": "ee7a5361",
   "metadata": {},
   "outputs": [],
   "source": []
  }
 ],
 "metadata": {
  "kernelspec": {
   "display_name": "Python 3 (ipykernel)",
   "language": "python",
   "name": "python3"
  },
  "language_info": {
   "codemirror_mode": {
    "name": "ipython",
    "version": 3
   },
   "file_extension": ".py",
   "mimetype": "text/x-python",
   "name": "python",
   "nbconvert_exporter": "python",
   "pygments_lexer": "ipython3",
   "version": "3.11.9"
  }
 },
 "nbformat": 4,
 "nbformat_minor": 5
}
